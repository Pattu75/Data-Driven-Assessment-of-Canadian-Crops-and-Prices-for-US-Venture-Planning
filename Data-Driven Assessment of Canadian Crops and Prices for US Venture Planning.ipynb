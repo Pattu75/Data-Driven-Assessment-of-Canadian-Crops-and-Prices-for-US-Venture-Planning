{
 "cells": [
  {
   "cell_type": "markdown",
   "id": "95b74546",
   "metadata": {},
   "source": [
    "# Data-Driven Assessment of Canadian Crops and Prices for US Venture Planning"
   ]
  },
  {
   "cell_type": "markdown",
   "id": "1d689933",
   "metadata": {},
   "source": [
    "### Objectives:\n",
    "\n",
    "The goal of this project is to support strategic decisions for a US-based venture capital firm interested in the craft beer and spirits supply chain by analyzing Canadian agricultural data—specifically crop production and farm prices—while evaluating exchange rate impacts using R and SQLite.\n",
    "\n",
    "The first task is to provide a high level analysis of crop production in Canada. The stakeholders want to understand the current and historical performance of certain crop types in terms of supply and price. For now they are mainly interested in a macro-view of Canada’s crop farming industry, and how it relates to the relative value of the Canadian and US dollars.\n",
    "\n",
    "We will be asked questions that will help us understand the data. So, we will also be asked to create four tables in database, and load the tables using the provided datasets from R using the RODBC/RSQLite package. \n",
    "\n"
   ]
  },
  {
   "cell_type": "markdown",
   "id": "d27f545f",
   "metadata": {},
   "source": [
    "## I. Understanding the Datasets"
   ]
  },
  {
   "cell_type": "markdown",
   "id": "76ab7ee0",
   "metadata": {},
   "source": [
    "The purpose is to familiarize with 4 datasets from Statistics Canada and the Bank of Canada.\n",
    "\n",
    "The datasets Used are:\n",
    "- Annual_Crop_Data.csv: Annual crop production metrics.\n",
    "- Monthly_Farm_Prices.csv: Monthly crop price data.\n",
    "- Daily_FX.csv: Daily USD-CAD exchange rates.\n",
    "- Monthly_FX.csv: Monthly average USD-CAD exchange rates.\n",
    "\n",
    "There are clarity on data structure, column names, and data types—crucial for correct table creation and querying."
   ]
  },
  {
   "cell_type": "markdown",
   "id": "d60c0872",
   "metadata": {},
   "source": [
    "## II. Creating & Loading the Dataset Tables"
   ]
  },
  {
   "cell_type": "markdown",
   "id": "c2f050c5",
   "metadata": {},
   "source": [
    "The purpose of this step is to load CSV datasets into SQLite using the RSQLite and DBI packages:\n",
    "- Connect to SQLite DB\n",
    "- Create Tables CROP_DATA; FARM_PRICES; DAILY_FX; MONTHLY_FX.\n",
    "- Load DataFrames from CSV and write to tables using dbWriteTable.\n",
    "- Use dbListTables(con) to confirm successful table creation and loading."
   ]
  },
  {
   "cell_type": "code",
   "execution_count": 31,
   "id": "d5190746",
   "metadata": {},
   "outputs": [
    {
     "name": "stderr",
     "output_type": "stream",
     "text": [
      "Updating HTML index of packages in '.Library'\n",
      "\n",
      "Making 'packages.html' ...\n",
      " done\n",
      "\n",
      "Updating HTML index of packages in '.Library'\n",
      "\n",
      "Making 'packages.html' ...\n",
      " done\n",
      "\n"
     ]
    }
   ],
   "source": [
    "# Install necessary packages \n",
    "install.packages(\"RSQLite\")\n",
    "install.packages(\"DBI\")"
   ]
  },
  {
   "cell_type": "code",
   "execution_count": 32,
   "id": "8db9d298",
   "metadata": {},
   "outputs": [],
   "source": [
    "# Load the libraries\n",
    "library(RSQLite)\n",
    "library(DBI)"
   ]
  },
  {
   "cell_type": "code",
   "execution_count": 33,
   "id": "abb0fc87",
   "metadata": {},
   "outputs": [],
   "source": [
    "# Connect to (or create) a SQLite database\n",
    "con <- dbConnect(RSQLite::SQLite(), \"crop_analysis.db\")"
   ]
  },
  {
   "cell_type": "markdown",
   "id": "1e2da4c3",
   "metadata": {},
   "source": [
    "### 1. Create Tables in SQLite"
   ]
  },
  {
   "cell_type": "code",
   "execution_count": 36,
   "id": "f577226f",
   "metadata": {},
   "outputs": [
    {
     "name": "stdout",
     "output_type": "stream",
     "text": [
      "Table was created successfully.\n"
     ]
    }
   ],
   "source": [
    "# Create CROP_DATA Table\n",
    "df1 <- dbExecute(conn, \"\n",
    "  CREATE TABLE CROP_DATA (\n",
    "    CD_ID INTEGER NOT NULL,\n",
    "    YEAR DATE NOT NULL,\n",
    "    CROP_TYPE VARCHAR(20) NOT NULL,\n",
    "    GEO VARCHAR(20) NOT NULL,\n",
    "    SEEDED_AREA INTEGER NOT NULL,\n",
    "    HARVESTED_AREA INTEGER NOT NULL,\n",
    "    PRODUCTION INTEGER NOT NULL,\n",
    "    AVG_YIELD INTEGER NOT NULL,\n",
    "    PRIMARY KEY (CD_ID)\n",
    "  )\n",
    "\")\n",
    "\n",
    "# Check if table was created successfully\n",
    "if (df1 == -1){\n",
    "  cat(\"An error has occurred.\\n\")\n",
    "  msg <- odbcGetErrMsg(conn)\n",
    "  print(msg)\n",
    "} else {\n",
    "  cat(\"Table was created successfully.\\n\")\n",
    "}"
   ]
  },
  {
   "cell_type": "code",
   "execution_count": 37,
   "id": "5c01a02c",
   "metadata": {},
   "outputs": [
    {
     "name": "stdout",
     "output_type": "stream",
     "text": [
      "FARM_PRICES table created successfully.\n"
     ]
    }
   ],
   "source": [
    "# Create FARM_PRICES Table\n",
    "df2 <- dbExecute(conn, \"\n",
    "  CREATE TABLE FARM_PRICES (\n",
    "    FP_ID INTEGER NOT NULL,\n",
    "    DATE DATE NOT NULL,\n",
    "    GEO VARCHAR(20) NOT NULL,\n",
    "    CROP_TYPE VARCHAR(20) NOT NULL,\n",
    "    PRICE DECIMAL(10,2) NOT NULL,\n",
    "    PRIMARY KEY (FP_ID)\n",
    "  )\n",
    "\")\n",
    "\n",
    "if (df2 == -1){\n",
    "  cat('Error creating FARM_PRICES table.\\n')\n",
    "} else {\n",
    "  cat(\"FARM_PRICES table created successfully.\\n\")\n",
    "}"
   ]
  },
  {
   "cell_type": "code",
   "execution_count": 38,
   "id": "305791d4",
   "metadata": {},
   "outputs": [
    {
     "name": "stdout",
     "output_type": "stream",
     "text": [
      "DAILY_FX table created successfully.\n"
     ]
    }
   ],
   "source": [
    "# Create DAILY_FX Table\n",
    "df3 <- dbExecute(conn, \"\n",
    "  CREATE TABLE DAILY_FX (\n",
    "    FXD_ID INTEGER NOT NULL,\n",
    "    DATE DATE NOT NULL,\n",
    "    USD_CAD DECIMAL(10,4) NOT NULL,\n",
    "    PRIMARY KEY (FXD_ID)\n",
    "  )\n",
    "\")\n",
    "\n",
    "if (df3 == -1){\n",
    "  cat('Error creating DAILY_FX table.\\n')\n",
    "} else {\n",
    "  cat(\"DAILY_FX table created successfully.\\n\")\n",
    "}"
   ]
  },
  {
   "cell_type": "code",
   "execution_count": 41,
   "id": "94ed1ce3",
   "metadata": {},
   "outputs": [
    {
     "name": "stdout",
     "output_type": "stream",
     "text": [
      "MONTHLY_FX table created successfully.\n"
     ]
    }
   ],
   "source": [
    "df4 <- dbExecute(conn, \"\n",
    "  CREATE TABLE MONTHLY_FX (\n",
    "    FXM_ID INTEGER NOT NULL,\n",
    "    DATE DATE NOT NULL,\n",
    "    USD_CAD DECIMAL(10,4) NOT NULL,\n",
    "    PRIMARY KEY (FXM_ID)\n",
    "  )\n",
    "\")\n",
    "\n",
    "if (df4 == -1){\n",
    "  cat('Error creating MONTHLY_FX table.\\n')\n",
    "} else {\n",
    "  cat(\"MONTHLY_FX table created successfully.\\n\")\n",
    "}"
   ]
  },
  {
   "cell_type": "markdown",
   "id": "78731627",
   "metadata": {},
   "source": [
    "### 2. Load the Dataframes into The SQLite Database Tables"
   ]
  },
  {
   "cell_type": "code",
   "execution_count": 42,
   "id": "92111512",
   "metadata": {},
   "outputs": [],
   "source": [
    "# Load each CSV file into a data frame\n",
    "crop_data <- read.csv(\"/Annual_Crop_Data.csv\")\n",
    "farm_prices <- read.csv(\"/Monthly_Farm_Prices.csv\")\n",
    "daily_fx <- read.csv(\"/Daily_FX.csv\")\n",
    "monthly_fx <- read.csv(\"/Monthly_FX.csv\")"
   ]
  },
  {
   "cell_type": "code",
   "execution_count": 48,
   "id": "524d2c15",
   "metadata": {
    "scrolled": true
   },
   "outputs": [
    {
     "data": {
      "text/html": [
       "<table class=\"dataframe\">\n",
       "<caption>A data.frame: 6 × 8</caption>\n",
       "<thead>\n",
       "\t<tr><th></th><th scope=col>CD_ID</th><th scope=col>YEAR</th><th scope=col>CROP_TYPE</th><th scope=col>GEO</th><th scope=col>SEEDED_AREA</th><th scope=col>HARVESTED_AREA</th><th scope=col>PRODUCTION</th><th scope=col>AVG_YIELD</th></tr>\n",
       "\t<tr><th></th><th scope=col>&lt;int&gt;</th><th scope=col>&lt;chr&gt;</th><th scope=col>&lt;chr&gt;</th><th scope=col>&lt;chr&gt;</th><th scope=col>&lt;int&gt;</th><th scope=col>&lt;int&gt;</th><th scope=col>&lt;int&gt;</th><th scope=col>&lt;int&gt;</th></tr>\n",
       "</thead>\n",
       "<tbody>\n",
       "\t<tr><th scope=row>1</th><td>0</td><td>1965-12-31</td><td>Barley</td><td>Alberta     </td><td>1372000</td><td>1372000</td><td>2504000</td><td>1825</td></tr>\n",
       "\t<tr><th scope=row>2</th><td>1</td><td>1965-12-31</td><td>Barley</td><td>Canada      </td><td>2476800</td><td>2476800</td><td>4752900</td><td>1920</td></tr>\n",
       "\t<tr><th scope=row>3</th><td>2</td><td>1965-12-31</td><td>Barley</td><td>Saskatchewan</td><td> 708000</td><td> 708000</td><td>1415000</td><td>2000</td></tr>\n",
       "\t<tr><th scope=row>4</th><td>3</td><td>1965-12-31</td><td>Canola</td><td>Alberta     </td><td> 297400</td><td> 297400</td><td> 215500</td><td> 725</td></tr>\n",
       "\t<tr><th scope=row>5</th><td>4</td><td>1965-12-31</td><td>Canola</td><td>Canada      </td><td> 580700</td><td> 580700</td><td> 512600</td><td> 885</td></tr>\n",
       "\t<tr><th scope=row>6</th><td>5</td><td>1965-12-31</td><td>Canola</td><td>Saskatchewan</td><td> 224600</td><td> 224600</td><td> 242700</td><td>1080</td></tr>\n",
       "</tbody>\n",
       "</table>\n"
      ],
      "text/latex": [
       "A data.frame: 6 × 8\n",
       "\\begin{tabular}{r|llllllll}\n",
       "  & CD\\_ID & YEAR & CROP\\_TYPE & GEO & SEEDED\\_AREA & HARVESTED\\_AREA & PRODUCTION & AVG\\_YIELD\\\\\n",
       "  & <int> & <chr> & <chr> & <chr> & <int> & <int> & <int> & <int>\\\\\n",
       "\\hline\n",
       "\t1 & 0 & 1965-12-31 & Barley & Alberta      & 1372000 & 1372000 & 2504000 & 1825\\\\\n",
       "\t2 & 1 & 1965-12-31 & Barley & Canada       & 2476800 & 2476800 & 4752900 & 1920\\\\\n",
       "\t3 & 2 & 1965-12-31 & Barley & Saskatchewan &  708000 &  708000 & 1415000 & 2000\\\\\n",
       "\t4 & 3 & 1965-12-31 & Canola & Alberta      &  297400 &  297400 &  215500 &  725\\\\\n",
       "\t5 & 4 & 1965-12-31 & Canola & Canada       &  580700 &  580700 &  512600 &  885\\\\\n",
       "\t6 & 5 & 1965-12-31 & Canola & Saskatchewan &  224600 &  224600 &  242700 & 1080\\\\\n",
       "\\end{tabular}\n"
      ],
      "text/markdown": [
       "\n",
       "A data.frame: 6 × 8\n",
       "\n",
       "| <!--/--> | CD_ID &lt;int&gt; | YEAR &lt;chr&gt; | CROP_TYPE &lt;chr&gt; | GEO &lt;chr&gt; | SEEDED_AREA &lt;int&gt; | HARVESTED_AREA &lt;int&gt; | PRODUCTION &lt;int&gt; | AVG_YIELD &lt;int&gt; |\n",
       "|---|---|---|---|---|---|---|---|---|\n",
       "| 1 | 0 | 1965-12-31 | Barley | Alberta      | 1372000 | 1372000 | 2504000 | 1825 |\n",
       "| 2 | 1 | 1965-12-31 | Barley | Canada       | 2476800 | 2476800 | 4752900 | 1920 |\n",
       "| 3 | 2 | 1965-12-31 | Barley | Saskatchewan |  708000 |  708000 | 1415000 | 2000 |\n",
       "| 4 | 3 | 1965-12-31 | Canola | Alberta      |  297400 |  297400 |  215500 |  725 |\n",
       "| 5 | 4 | 1965-12-31 | Canola | Canada       |  580700 |  580700 |  512600 |  885 |\n",
       "| 6 | 5 | 1965-12-31 | Canola | Saskatchewan |  224600 |  224600 |  242700 | 1080 |\n",
       "\n"
      ],
      "text/plain": [
       "  CD_ID YEAR       CROP_TYPE GEO          SEEDED_AREA HARVESTED_AREA PRODUCTION\n",
       "1 0     1965-12-31 Barley    Alberta      1372000     1372000        2504000   \n",
       "2 1     1965-12-31 Barley    Canada       2476800     2476800        4752900   \n",
       "3 2     1965-12-31 Barley    Saskatchewan  708000      708000        1415000   \n",
       "4 3     1965-12-31 Canola    Alberta       297400      297400         215500   \n",
       "5 4     1965-12-31 Canola    Canada        580700      580700         512600   \n",
       "6 5     1965-12-31 Canola    Saskatchewan  224600      224600         242700   \n",
       "  AVG_YIELD\n",
       "1 1825     \n",
       "2 1920     \n",
       "3 2000     \n",
       "4  725     \n",
       "5  885     \n",
       "6 1080     "
      ]
     },
     "metadata": {},
     "output_type": "display_data"
    }
   ],
   "source": [
    "head(crop_data)"
   ]
  },
  {
   "cell_type": "code",
   "execution_count": 49,
   "id": "1449abf7",
   "metadata": {},
   "outputs": [
    {
     "data": {
      "text/html": [
       "<table class=\"dataframe\">\n",
       "<caption>A data.frame: 6 × 5</caption>\n",
       "<thead>\n",
       "\t<tr><th></th><th scope=col>CD_ID</th><th scope=col>DATE</th><th scope=col>CROP_TYPE</th><th scope=col>GEO</th><th scope=col>PRICE_PRERMT</th></tr>\n",
       "\t<tr><th></th><th scope=col>&lt;int&gt;</th><th scope=col>&lt;chr&gt;</th><th scope=col>&lt;chr&gt;</th><th scope=col>&lt;chr&gt;</th><th scope=col>&lt;dbl&gt;</th></tr>\n",
       "</thead>\n",
       "<tbody>\n",
       "\t<tr><th scope=row>1</th><td>0</td><td>1985-01-01</td><td>Barley</td><td>Alberta     </td><td>127.39</td></tr>\n",
       "\t<tr><th scope=row>2</th><td>1</td><td>1985-01-01</td><td>Barley</td><td>Saskatchewan</td><td>121.38</td></tr>\n",
       "\t<tr><th scope=row>3</th><td>2</td><td>1985-01-01</td><td>Canola</td><td>Alberta     </td><td>342.00</td></tr>\n",
       "\t<tr><th scope=row>4</th><td>3</td><td>1985-01-01</td><td>Canola</td><td>Saskatchewan</td><td>339.82</td></tr>\n",
       "\t<tr><th scope=row>5</th><td>4</td><td>1985-01-01</td><td>Rye   </td><td>Alberta     </td><td>100.77</td></tr>\n",
       "\t<tr><th scope=row>6</th><td>5</td><td>1985-01-01</td><td>Rye   </td><td>Saskatchewan</td><td>109.75</td></tr>\n",
       "</tbody>\n",
       "</table>\n"
      ],
      "text/latex": [
       "A data.frame: 6 × 5\n",
       "\\begin{tabular}{r|lllll}\n",
       "  & CD\\_ID & DATE & CROP\\_TYPE & GEO & PRICE\\_PRERMT\\\\\n",
       "  & <int> & <chr> & <chr> & <chr> & <dbl>\\\\\n",
       "\\hline\n",
       "\t1 & 0 & 1985-01-01 & Barley & Alberta      & 127.39\\\\\n",
       "\t2 & 1 & 1985-01-01 & Barley & Saskatchewan & 121.38\\\\\n",
       "\t3 & 2 & 1985-01-01 & Canola & Alberta      & 342.00\\\\\n",
       "\t4 & 3 & 1985-01-01 & Canola & Saskatchewan & 339.82\\\\\n",
       "\t5 & 4 & 1985-01-01 & Rye    & Alberta      & 100.77\\\\\n",
       "\t6 & 5 & 1985-01-01 & Rye    & Saskatchewan & 109.75\\\\\n",
       "\\end{tabular}\n"
      ],
      "text/markdown": [
       "\n",
       "A data.frame: 6 × 5\n",
       "\n",
       "| <!--/--> | CD_ID &lt;int&gt; | DATE &lt;chr&gt; | CROP_TYPE &lt;chr&gt; | GEO &lt;chr&gt; | PRICE_PRERMT &lt;dbl&gt; |\n",
       "|---|---|---|---|---|---|\n",
       "| 1 | 0 | 1985-01-01 | Barley | Alberta      | 127.39 |\n",
       "| 2 | 1 | 1985-01-01 | Barley | Saskatchewan | 121.38 |\n",
       "| 3 | 2 | 1985-01-01 | Canola | Alberta      | 342.00 |\n",
       "| 4 | 3 | 1985-01-01 | Canola | Saskatchewan | 339.82 |\n",
       "| 5 | 4 | 1985-01-01 | Rye    | Alberta      | 100.77 |\n",
       "| 6 | 5 | 1985-01-01 | Rye    | Saskatchewan | 109.75 |\n",
       "\n"
      ],
      "text/plain": [
       "  CD_ID DATE       CROP_TYPE GEO          PRICE_PRERMT\n",
       "1 0     1985-01-01 Barley    Alberta      127.39      \n",
       "2 1     1985-01-01 Barley    Saskatchewan 121.38      \n",
       "3 2     1985-01-01 Canola    Alberta      342.00      \n",
       "4 3     1985-01-01 Canola    Saskatchewan 339.82      \n",
       "5 4     1985-01-01 Rye       Alberta      100.77      \n",
       "6 5     1985-01-01 Rye       Saskatchewan 109.75      "
      ]
     },
     "metadata": {},
     "output_type": "display_data"
    }
   ],
   "source": [
    "head(farm_prices)"
   ]
  },
  {
   "cell_type": "code",
   "execution_count": 50,
   "id": "048aa59c",
   "metadata": {},
   "outputs": [
    {
     "data": {
      "text/html": [
       "<table class=\"dataframe\">\n",
       "<caption>A data.frame: 6 × 3</caption>\n",
       "<thead>\n",
       "\t<tr><th></th><th scope=col>DFX_ID</th><th scope=col>DATE</th><th scope=col>FXUSDCAD</th></tr>\n",
       "\t<tr><th></th><th scope=col>&lt;int&gt;</th><th scope=col>&lt;chr&gt;</th><th scope=col>&lt;dbl&gt;</th></tr>\n",
       "</thead>\n",
       "<tbody>\n",
       "\t<tr><th scope=row>1</th><td>0</td><td>2017-01-03</td><td>1.3435</td></tr>\n",
       "\t<tr><th scope=row>2</th><td>1</td><td>2017-01-04</td><td>1.3315</td></tr>\n",
       "\t<tr><th scope=row>3</th><td>2</td><td>2017-01-05</td><td>1.3244</td></tr>\n",
       "\t<tr><th scope=row>4</th><td>3</td><td>2017-01-06</td><td>1.3214</td></tr>\n",
       "\t<tr><th scope=row>5</th><td>4</td><td>2017-01-09</td><td>1.3240</td></tr>\n",
       "\t<tr><th scope=row>6</th><td>5</td><td>2017-01-10</td><td>1.3213</td></tr>\n",
       "</tbody>\n",
       "</table>\n"
      ],
      "text/latex": [
       "A data.frame: 6 × 3\n",
       "\\begin{tabular}{r|lll}\n",
       "  & DFX\\_ID & DATE & FXUSDCAD\\\\\n",
       "  & <int> & <chr> & <dbl>\\\\\n",
       "\\hline\n",
       "\t1 & 0 & 2017-01-03 & 1.3435\\\\\n",
       "\t2 & 1 & 2017-01-04 & 1.3315\\\\\n",
       "\t3 & 2 & 2017-01-05 & 1.3244\\\\\n",
       "\t4 & 3 & 2017-01-06 & 1.3214\\\\\n",
       "\t5 & 4 & 2017-01-09 & 1.3240\\\\\n",
       "\t6 & 5 & 2017-01-10 & 1.3213\\\\\n",
       "\\end{tabular}\n"
      ],
      "text/markdown": [
       "\n",
       "A data.frame: 6 × 3\n",
       "\n",
       "| <!--/--> | DFX_ID &lt;int&gt; | DATE &lt;chr&gt; | FXUSDCAD &lt;dbl&gt; |\n",
       "|---|---|---|---|\n",
       "| 1 | 0 | 2017-01-03 | 1.3435 |\n",
       "| 2 | 1 | 2017-01-04 | 1.3315 |\n",
       "| 3 | 2 | 2017-01-05 | 1.3244 |\n",
       "| 4 | 3 | 2017-01-06 | 1.3214 |\n",
       "| 5 | 4 | 2017-01-09 | 1.3240 |\n",
       "| 6 | 5 | 2017-01-10 | 1.3213 |\n",
       "\n"
      ],
      "text/plain": [
       "  DFX_ID DATE       FXUSDCAD\n",
       "1 0      2017-01-03 1.3435  \n",
       "2 1      2017-01-04 1.3315  \n",
       "3 2      2017-01-05 1.3244  \n",
       "4 3      2017-01-06 1.3214  \n",
       "5 4      2017-01-09 1.3240  \n",
       "6 5      2017-01-10 1.3213  "
      ]
     },
     "metadata": {},
     "output_type": "display_data"
    }
   ],
   "source": [
    "head(daily_fx)"
   ]
  },
  {
   "cell_type": "code",
   "execution_count": 51,
   "id": "4da16837",
   "metadata": {},
   "outputs": [
    {
     "data": {
      "text/html": [
       "<table class=\"dataframe\">\n",
       "<caption>A data.frame: 6 × 3</caption>\n",
       "<thead>\n",
       "\t<tr><th></th><th scope=col>DFX_ID</th><th scope=col>DATE</th><th scope=col>FXUSDCAD</th></tr>\n",
       "\t<tr><th></th><th scope=col>&lt;int&gt;</th><th scope=col>&lt;chr&gt;</th><th scope=col>&lt;dbl&gt;</th></tr>\n",
       "</thead>\n",
       "<tbody>\n",
       "\t<tr><th scope=row>1</th><td>0</td><td>2017-01-01</td><td>1.319276</td></tr>\n",
       "\t<tr><th scope=row>2</th><td>1</td><td>2017-02-01</td><td>1.310726</td></tr>\n",
       "\t<tr><th scope=row>3</th><td>2</td><td>2017-03-01</td><td>1.338643</td></tr>\n",
       "\t<tr><th scope=row>4</th><td>3</td><td>2017-04-01</td><td>1.344021</td></tr>\n",
       "\t<tr><th scope=row>5</th><td>4</td><td>2017-05-01</td><td>1.360705</td></tr>\n",
       "\t<tr><th scope=row>6</th><td>5</td><td>2017-06-01</td><td>1.329805</td></tr>\n",
       "</tbody>\n",
       "</table>\n"
      ],
      "text/latex": [
       "A data.frame: 6 × 3\n",
       "\\begin{tabular}{r|lll}\n",
       "  & DFX\\_ID & DATE & FXUSDCAD\\\\\n",
       "  & <int> & <chr> & <dbl>\\\\\n",
       "\\hline\n",
       "\t1 & 0 & 2017-01-01 & 1.319276\\\\\n",
       "\t2 & 1 & 2017-02-01 & 1.310726\\\\\n",
       "\t3 & 2 & 2017-03-01 & 1.338643\\\\\n",
       "\t4 & 3 & 2017-04-01 & 1.344021\\\\\n",
       "\t5 & 4 & 2017-05-01 & 1.360705\\\\\n",
       "\t6 & 5 & 2017-06-01 & 1.329805\\\\\n",
       "\\end{tabular}\n"
      ],
      "text/markdown": [
       "\n",
       "A data.frame: 6 × 3\n",
       "\n",
       "| <!--/--> | DFX_ID &lt;int&gt; | DATE &lt;chr&gt; | FXUSDCAD &lt;dbl&gt; |\n",
       "|---|---|---|---|\n",
       "| 1 | 0 | 2017-01-01 | 1.319276 |\n",
       "| 2 | 1 | 2017-02-01 | 1.310726 |\n",
       "| 3 | 2 | 2017-03-01 | 1.338643 |\n",
       "| 4 | 3 | 2017-04-01 | 1.344021 |\n",
       "| 5 | 4 | 2017-05-01 | 1.360705 |\n",
       "| 6 | 5 | 2017-06-01 | 1.329805 |\n",
       "\n"
      ],
      "text/plain": [
       "  DFX_ID DATE       FXUSDCAD\n",
       "1 0      2017-01-01 1.319276\n",
       "2 1      2017-02-01 1.310726\n",
       "3 2      2017-03-01 1.338643\n",
       "4 3      2017-04-01 1.344021\n",
       "5 4      2017-05-01 1.360705\n",
       "6 5      2017-06-01 1.329805"
      ]
     },
     "metadata": {},
     "output_type": "display_data"
    }
   ],
   "source": [
    "head(monthly_fx)"
   ]
  },
  {
   "cell_type": "markdown",
   "id": "ea2d4a6f",
   "metadata": {},
   "source": [
    "### 3. Write the Dataframes to The SQLite Database Tables"
   ]
  },
  {
   "cell_type": "code",
   "execution_count": 43,
   "id": "94a48bff",
   "metadata": {},
   "outputs": [],
   "source": [
    "# Write data frames to the database as tables\n",
    "dbWriteTable(con, \"CROP_DATA\", crop_data, overwrite = TRUE)\n",
    "dbWriteTable(con, \"FARM_PRICES\", farm_prices, overwrite = TRUE)\n",
    "dbWriteTable(con, \"DAILY_FX\", daily_fx, overwrite = TRUE)\n",
    "dbWriteTable(con, \"MONTHLY_FX\", monthly_fx, overwrite = TRUE)"
   ]
  },
  {
   "cell_type": "code",
   "execution_count": 44,
   "id": "49f19a63",
   "metadata": {},
   "outputs": [
    {
     "data": {
      "text/html": [
       "<style>\n",
       ".list-inline {list-style: none; margin:0; padding: 0}\n",
       ".list-inline>li {display: inline-block}\n",
       ".list-inline>li:not(:last-child)::after {content: \"\\00b7\"; padding: 0 .5ex}\n",
       "</style>\n",
       "<ol class=list-inline><li>'CROP_DATA'</li><li>'DAILY_FX'</li><li>'FARM_PRICES'</li><li>'MONTHLY_FX'</li></ol>\n"
      ],
      "text/latex": [
       "\\begin{enumerate*}\n",
       "\\item 'CROP\\_DATA'\n",
       "\\item 'DAILY\\_FX'\n",
       "\\item 'FARM\\_PRICES'\n",
       "\\item 'MONTHLY\\_FX'\n",
       "\\end{enumerate*}\n"
      ],
      "text/markdown": [
       "1. 'CROP_DATA'\n",
       "2. 'DAILY_FX'\n",
       "3. 'FARM_PRICES'\n",
       "4. 'MONTHLY_FX'\n",
       "\n",
       "\n"
      ],
      "text/plain": [
       "[1] \"CROP_DATA\"   \"DAILY_FX\"    \"FARM_PRICES\" \"MONTHLY_FX\" "
      ]
     },
     "metadata": {},
     "output_type": "display_data"
    }
   ],
   "source": [
    "# check List of Tables in the present db\n",
    "dbListTables(con)"
   ]
  },
  {
   "cell_type": "markdown",
   "id": "70775115",
   "metadata": {},
   "source": [
    "## III. SQL Querying Using RSQLite"
   ]
  },
  {
   "cell_type": "markdown",
   "id": "a9bcafe4",
   "metadata": {},
   "source": [
    "The purpose of this step is to answer business questions using SQL queries in R via dbGetQuery()."
   ]
  },
  {
   "cell_type": "markdown",
   "id": "cfb87ff8",
   "metadata": {},
   "source": [
    "1. How many records are in the farm prices dataset?"
   ]
  },
  {
   "cell_type": "code",
   "execution_count": 56,
   "id": "1c10fff2",
   "metadata": {},
   "outputs": [
    {
     "data": {
      "text/html": [
       "<table class=\"dataframe\">\n",
       "<caption>A data.frame: 1 × 1</caption>\n",
       "<thead>\n",
       "\t<tr><th scope=col>total_records</th></tr>\n",
       "\t<tr><th scope=col>&lt;int&gt;</th></tr>\n",
       "</thead>\n",
       "<tbody>\n",
       "\t<tr><td>2678</td></tr>\n",
       "</tbody>\n",
       "</table>\n"
      ],
      "text/latex": [
       "A data.frame: 1 × 1\n",
       "\\begin{tabular}{l}\n",
       " total\\_records\\\\\n",
       " <int>\\\\\n",
       "\\hline\n",
       "\t 2678\\\\\n",
       "\\end{tabular}\n"
      ],
      "text/markdown": [
       "\n",
       "A data.frame: 1 × 1\n",
       "\n",
       "| total_records &lt;int&gt; |\n",
       "|---|\n",
       "| 2678 |\n",
       "\n"
      ],
      "text/plain": [
       "  total_records\n",
       "1 2678         "
      ]
     },
     "metadata": {},
     "output_type": "display_data"
    }
   ],
   "source": [
    "# Query to count number of records in FARM_PRICES table\n",
    "result3 <-dbGetQuery(con, 'SELECT COUNT(*) AS total_records FROM FARM_PRICES')\n",
    "result3"
   ]
  },
  {
   "cell_type": "markdown",
   "id": "341a20ab",
   "metadata": {},
   "source": [
    "2. Which provinces are included in the farm prices dataset?"
   ]
  },
  {
   "cell_type": "code",
   "execution_count": 55,
   "id": "0016727f",
   "metadata": {},
   "outputs": [
    {
     "data": {
      "text/html": [
       "<table class=\"dataframe\">\n",
       "<caption>A data.frame: 2 × 1</caption>\n",
       "<thead>\n",
       "\t<tr><th scope=col>province</th></tr>\n",
       "\t<tr><th scope=col>&lt;chr&gt;</th></tr>\n",
       "</thead>\n",
       "<tbody>\n",
       "\t<tr><td>Alberta     </td></tr>\n",
       "\t<tr><td>Saskatchewan</td></tr>\n",
       "</tbody>\n",
       "</table>\n"
      ],
      "text/latex": [
       "A data.frame: 2 × 1\n",
       "\\begin{tabular}{l}\n",
       " province\\\\\n",
       " <chr>\\\\\n",
       "\\hline\n",
       "\t Alberta     \\\\\n",
       "\t Saskatchewan\\\\\n",
       "\\end{tabular}\n"
      ],
      "text/markdown": [
       "\n",
       "A data.frame: 2 × 1\n",
       "\n",
       "| province &lt;chr&gt; |\n",
       "|---|\n",
       "| Alberta      |\n",
       "| Saskatchewan |\n",
       "\n"
      ],
      "text/plain": [
       "  province    \n",
       "1 Alberta     \n",
       "2 Saskatchewan"
      ]
     },
     "metadata": {},
     "output_type": "display_data"
    }
   ],
   "source": [
    "# Query to list distinct provinces in the FARM_PRICES dataset\n",
    "result4 <- dbGetQuery(con, 'SELECT DISTINCT GEO AS province FROM FARM_PRICES')\n",
    "result4"
   ]
  },
  {
   "cell_type": "markdown",
   "id": "7fdca542",
   "metadata": {},
   "source": [
    "3. How many hectares of Rye were harvested in Canada in 1968?"
   ]
  },
  {
   "cell_type": "code",
   "execution_count": 62,
   "id": "27bb3bcb",
   "metadata": {},
   "outputs": [
    {
     "data": {
      "text/html": [
       "<table class=\"dataframe\">\n",
       "<caption>A data.frame: 1 × 1</caption>\n",
       "<thead>\n",
       "\t<tr><th scope=col>HARVESTED_AREA</th></tr>\n",
       "\t<tr><th scope=col>&lt;int&gt;</th></tr>\n",
       "</thead>\n",
       "<tbody>\n",
       "\t<tr><td>274100</td></tr>\n",
       "</tbody>\n",
       "</table>\n"
      ],
      "text/latex": [
       "A data.frame: 1 × 1\n",
       "\\begin{tabular}{l}\n",
       " HARVESTED\\_AREA\\\\\n",
       " <int>\\\\\n",
       "\\hline\n",
       "\t 274100\\\\\n",
       "\\end{tabular}\n"
      ],
      "text/markdown": [
       "\n",
       "A data.frame: 1 × 1\n",
       "\n",
       "| HARVESTED_AREA &lt;int&gt; |\n",
       "|---|\n",
       "| 274100 |\n",
       "\n"
      ],
      "text/plain": [
       "  HARVESTED_AREA\n",
       "1 274100        "
      ]
     },
     "metadata": {},
     "output_type": "display_data"
    }
   ],
   "source": [
    "result5 <- dbGetQuery(con, \"\n",
    "  SELECT HARVESTED_AREA \n",
    "  FROM CROP_DATA \n",
    "  WHERE CROP_TYPE = 'Rye' \n",
    "    AND GEO = 'Canada' \n",
    "    AND strftime('%Y', YEAR) = '1968';\n",
    "\")\n",
    "result5"
   ]
  },
  {
   "cell_type": "markdown",
   "id": "eac1a796",
   "metadata": {},
   "source": [
    "4. Query and display the first 6 rows of the farm prices table for Rye."
   ]
  },
  {
   "cell_type": "code",
   "execution_count": 65,
   "id": "73a61f00",
   "metadata": {},
   "outputs": [
    {
     "data": {
      "text/html": [
       "<table class=\"dataframe\">\n",
       "<caption>A data.frame: 6 × 5</caption>\n",
       "<thead>\n",
       "\t<tr><th scope=col>CD_ID</th><th scope=col>DATE</th><th scope=col>CROP_TYPE</th><th scope=col>GEO</th><th scope=col>PRICE_PRERMT</th></tr>\n",
       "\t<tr><th scope=col>&lt;int&gt;</th><th scope=col>&lt;chr&gt;</th><th scope=col>&lt;chr&gt;</th><th scope=col>&lt;chr&gt;</th><th scope=col>&lt;dbl&gt;</th></tr>\n",
       "</thead>\n",
       "<tbody>\n",
       "\t<tr><td> 4</td><td>1985-01-01</td><td>Rye</td><td>Alberta     </td><td>100.77</td></tr>\n",
       "\t<tr><td> 5</td><td>1985-01-01</td><td>Rye</td><td>Saskatchewan</td><td>109.75</td></tr>\n",
       "\t<tr><td>10</td><td>1985-02-01</td><td>Rye</td><td>Alberta     </td><td> 95.05</td></tr>\n",
       "\t<tr><td>11</td><td>1985-02-01</td><td>Rye</td><td>Saskatchewan</td><td>103.46</td></tr>\n",
       "\t<tr><td>16</td><td>1985-03-01</td><td>Rye</td><td>Alberta     </td><td> 96.77</td></tr>\n",
       "\t<tr><td>17</td><td>1985-03-01</td><td>Rye</td><td>Saskatchewan</td><td>106.38</td></tr>\n",
       "</tbody>\n",
       "</table>\n"
      ],
      "text/latex": [
       "A data.frame: 6 × 5\n",
       "\\begin{tabular}{lllll}\n",
       " CD\\_ID & DATE & CROP\\_TYPE & GEO & PRICE\\_PRERMT\\\\\n",
       " <int> & <chr> & <chr> & <chr> & <dbl>\\\\\n",
       "\\hline\n",
       "\t  4 & 1985-01-01 & Rye & Alberta      & 100.77\\\\\n",
       "\t  5 & 1985-01-01 & Rye & Saskatchewan & 109.75\\\\\n",
       "\t 10 & 1985-02-01 & Rye & Alberta      &  95.05\\\\\n",
       "\t 11 & 1985-02-01 & Rye & Saskatchewan & 103.46\\\\\n",
       "\t 16 & 1985-03-01 & Rye & Alberta      &  96.77\\\\\n",
       "\t 17 & 1985-03-01 & Rye & Saskatchewan & 106.38\\\\\n",
       "\\end{tabular}\n"
      ],
      "text/markdown": [
       "\n",
       "A data.frame: 6 × 5\n",
       "\n",
       "| CD_ID &lt;int&gt; | DATE &lt;chr&gt; | CROP_TYPE &lt;chr&gt; | GEO &lt;chr&gt; | PRICE_PRERMT &lt;dbl&gt; |\n",
       "|---|---|---|---|---|\n",
       "|  4 | 1985-01-01 | Rye | Alberta      | 100.77 |\n",
       "|  5 | 1985-01-01 | Rye | Saskatchewan | 109.75 |\n",
       "| 10 | 1985-02-01 | Rye | Alberta      |  95.05 |\n",
       "| 11 | 1985-02-01 | Rye | Saskatchewan | 103.46 |\n",
       "| 16 | 1985-03-01 | Rye | Alberta      |  96.77 |\n",
       "| 17 | 1985-03-01 | Rye | Saskatchewan | 106.38 |\n",
       "\n"
      ],
      "text/plain": [
       "  CD_ID DATE       CROP_TYPE GEO          PRICE_PRERMT\n",
       "1  4    1985-01-01 Rye       Alberta      100.77      \n",
       "2  5    1985-01-01 Rye       Saskatchewan 109.75      \n",
       "3 10    1985-02-01 Rye       Alberta       95.05      \n",
       "4 11    1985-02-01 Rye       Saskatchewan 103.46      \n",
       "5 16    1985-03-01 Rye       Alberta       96.77      \n",
       "6 17    1985-03-01 Rye       Saskatchewan 106.38      "
      ]
     },
     "metadata": {},
     "output_type": "display_data"
    }
   ],
   "source": [
    "# SQL query to retrieve the first 6 rows for Rye\n",
    "result6 <- dbGetQuery(con, \"\n",
    "  SELECT * \n",
    "  FROM FARM_PRICES \n",
    "  WHERE CROP_TYPE = 'Rye' \n",
    "  LIMIT 6;\n",
    "\")\n",
    "\n",
    "result6"
   ]
  },
  {
   "cell_type": "markdown",
   "id": "0379654e",
   "metadata": {},
   "source": [
    "5. Which provinces grew Barley?"
   ]
  },
  {
   "cell_type": "code",
   "execution_count": 67,
   "id": "df15079f",
   "metadata": {},
   "outputs": [
    {
     "name": "stdout",
     "output_type": "stream",
     "text": [
      "           GEO\n",
      "1      Alberta\n",
      "2       Canada\n",
      "3 Saskatchewan\n"
     ]
    }
   ],
   "source": [
    "# Query to find distinct provinces that grew Barley\n",
    "result5 <- dbGetQuery(con, \"\n",
    "  SELECT DISTINCT GEO \n",
    "  FROM CROP_DATA \n",
    "  WHERE CROP_TYPE = 'Barley';\n",
    "\")\n",
    "\n",
    "# Display the result\n",
    "print(result5)"
   ]
  },
  {
   "cell_type": "markdown",
   "id": "7e711de9",
   "metadata": {},
   "source": [
    "6. Find the first and last dates for the farm prices data."
   ]
  },
  {
   "cell_type": "code",
   "execution_count": 69,
   "id": "4c598462",
   "metadata": {},
   "outputs": [
    {
     "data": {
      "text/html": [
       "<table class=\"dataframe\">\n",
       "<caption>A data.frame: 1 × 2</caption>\n",
       "<thead>\n",
       "\t<tr><th scope=col>first_date</th><th scope=col>last_date</th></tr>\n",
       "\t<tr><th scope=col>&lt;chr&gt;</th><th scope=col>&lt;chr&gt;</th></tr>\n",
       "</thead>\n",
       "<tbody>\n",
       "\t<tr><td>1985-01-01</td><td>2020-12-01</td></tr>\n",
       "</tbody>\n",
       "</table>\n"
      ],
      "text/latex": [
       "A data.frame: 1 × 2\n",
       "\\begin{tabular}{ll}\n",
       " first\\_date & last\\_date\\\\\n",
       " <chr> & <chr>\\\\\n",
       "\\hline\n",
       "\t 1985-01-01 & 2020-12-01\\\\\n",
       "\\end{tabular}\n"
      ],
      "text/markdown": [
       "\n",
       "A data.frame: 1 × 2\n",
       "\n",
       "| first_date &lt;chr&gt; | last_date &lt;chr&gt; |\n",
       "|---|---|\n",
       "| 1985-01-01 | 2020-12-01 |\n",
       "\n"
      ],
      "text/plain": [
       "  first_date last_date \n",
       "1 1985-01-01 2020-12-01"
      ]
     },
     "metadata": {},
     "output_type": "display_data"
    }
   ],
   "source": [
    "# Query to find the first and last date in the FARM_PRICES table\n",
    "result_dates <- dbGetQuery(con, 'SELECT \n",
    "    MIN(DATE) AS first_date, MAX(DATE) AS last_date FROM FARM_PRICES');\n",
    "\n",
    "result_dates"
   ]
  },
  {
   "cell_type": "markdown",
   "id": "921d5f02",
   "metadata": {},
   "source": [
    "7. Which crops have ever reached a farm price greater than or equal to $350 per metric tonne?\n",
    "\n",
    "\n",
    "\n"
   ]
  },
  {
   "cell_type": "code",
   "execution_count": 71,
   "id": "8d0d84c8",
   "metadata": {},
   "outputs": [
    {
     "data": {
      "text/html": [
       "<table class=\"dataframe\">\n",
       "<caption>A data.frame: 1 × 1</caption>\n",
       "<thead>\n",
       "\t<tr><th scope=col>CROP_TYPE</th></tr>\n",
       "\t<tr><th scope=col>&lt;chr&gt;</th></tr>\n",
       "</thead>\n",
       "<tbody>\n",
       "\t<tr><td>Canola</td></tr>\n",
       "</tbody>\n",
       "</table>\n"
      ],
      "text/latex": [
       "A data.frame: 1 × 1\n",
       "\\begin{tabular}{l}\n",
       " CROP\\_TYPE\\\\\n",
       " <chr>\\\\\n",
       "\\hline\n",
       "\t Canola\\\\\n",
       "\\end{tabular}\n"
      ],
      "text/markdown": [
       "\n",
       "A data.frame: 1 × 1\n",
       "\n",
       "| CROP_TYPE &lt;chr&gt; |\n",
       "|---|\n",
       "| Canola |\n",
       "\n"
      ],
      "text/plain": [
       "  CROP_TYPE\n",
       "1 Canola   "
      ]
     },
     "metadata": {},
     "output_type": "display_data"
    }
   ],
   "source": [
    "# Query to find crops with farm prices >= 350\n",
    "high_price_crops <- dbGetQuery(con, 'SELECT DISTINCT CROP_TYPE \n",
    "  FROM FARM_PRICES WHERE PRICE_PRERMT >= 350');\n",
    "\n",
    "high_price_crops"
   ]
  },
  {
   "cell_type": "markdown",
   "id": "132e4f40",
   "metadata": {},
   "source": [
    "8. List the top 10 years of Wheat production in Saskatchewan in terms of harvested area."
   ]
  },
  {
   "cell_type": "code",
   "execution_count": null,
   "id": "3868e48e",
   "metadata": {},
   "outputs": [],
   "source": [
    "# Check column names in CROP_DATA\n",
    "colnames(dbReadTable(con, \"CROP_DATA\"))"
   ]
  },
  {
   "cell_type": "code",
   "execution_count": null,
   "id": "0da99cf7",
   "metadata": {},
   "outputs": [],
   "source": [
    "dbGetQuery(con, \"SELECT strftime('%Y', YEAR) AS TOP_10_YRS, GEO, HARVESTED_AREA\n",
    "FROM CROP_DATA\n",
    "WHERE CROP_TYPE= 'Wheat' AND\n",
    "GEO='Saskatchewan'\n",
    "ORDER BY HARVESTED_AREA DESC\n",
    "LIMIT 10\")"
   ]
  },
  {
   "cell_type": "markdown",
   "id": "2ca88776",
   "metadata": {},
   "source": [
    "9. Rank the crop types harvested in Saskatchewan in the year 2000 by their average yield. Which crop performed best?"
   ]
  },
  {
   "cell_type": "code",
   "execution_count": 80,
   "id": "9d44f6e6",
   "metadata": {},
   "outputs": [
    {
     "data": {
      "text/html": [
       "<table class=\"dataframe\">\n",
       "<caption>A data.frame: 4 × 2</caption>\n",
       "<thead>\n",
       "\t<tr><th scope=col>CROP_TYPE</th><th scope=col>AVG_YIELD</th></tr>\n",
       "\t<tr><th scope=col>&lt;chr&gt;</th><th scope=col>&lt;int&gt;</th></tr>\n",
       "</thead>\n",
       "<tbody>\n",
       "\t<tr><td>Barley</td><td>2800</td></tr>\n",
       "\t<tr><td>Wheat </td><td>2200</td></tr>\n",
       "\t<tr><td>Rye   </td><td>2100</td></tr>\n",
       "\t<tr><td>Canola</td><td>1400</td></tr>\n",
       "</tbody>\n",
       "</table>\n"
      ],
      "text/latex": [
       "A data.frame: 4 × 2\n",
       "\\begin{tabular}{ll}\n",
       " CROP\\_TYPE & AVG\\_YIELD\\\\\n",
       " <chr> & <int>\\\\\n",
       "\\hline\n",
       "\t Barley & 2800\\\\\n",
       "\t Wheat  & 2200\\\\\n",
       "\t Rye    & 2100\\\\\n",
       "\t Canola & 1400\\\\\n",
       "\\end{tabular}\n"
      ],
      "text/markdown": [
       "\n",
       "A data.frame: 4 × 2\n",
       "\n",
       "| CROP_TYPE &lt;chr&gt; | AVG_YIELD &lt;int&gt; |\n",
       "|---|---|\n",
       "| Barley | 2800 |\n",
       "| Wheat  | 2200 |\n",
       "| Rye    | 2100 |\n",
       "| Canola | 1400 |\n",
       "\n"
      ],
      "text/plain": [
       "  CROP_TYPE AVG_YIELD\n",
       "1 Barley    2800     \n",
       "2 Wheat     2200     \n",
       "3 Rye       2100     \n",
       "4 Canola    1400     "
      ]
     },
     "metadata": {},
     "output_type": "display_data"
    }
   ],
   "source": [
    "Saskatchewan_yield_2000 <- dbGetQuery(con, \"\n",
    "  SELECT CROP_TYPE, AVG_YIELD FROM CROP_DATA\n",
    "  WHERE GEO = 'Saskatchewan' AND strftime('%Y', YEAR) = '2000'\n",
    "  ORDER BY AVG_YIELD DESC\");\n",
    "\n",
    "Saskatchewan_yield_2000"
   ]
  },
  {
   "cell_type": "markdown",
   "id": "409a7003",
   "metadata": {},
   "source": [
    "10. Rank the crops and geographies by their average yield (KG per hectare) since the year 2000. Which crop and province had the highest average yield since the year 2000?"
   ]
  },
  {
   "cell_type": "code",
   "execution_count": 85,
   "id": "f7b5f7a4",
   "metadata": {},
   "outputs": [
    {
     "data": {
      "text/html": [
       "<table class=\"dataframe\">\n",
       "<caption>A data.frame: 10 × 3</caption>\n",
       "<thead>\n",
       "\t<tr><th></th><th scope=col>CROP_TYPE</th><th scope=col>GEO</th><th scope=col>AVG_YIELD</th></tr>\n",
       "\t<tr><th></th><th scope=col>&lt;chr&gt;</th><th scope=col>&lt;chr&gt;</th><th scope=col>&lt;dbl&gt;</th></tr>\n",
       "</thead>\n",
       "<tbody>\n",
       "\t<tr><th scope=row>1</th><td>Barley</td><td>Alberta     </td><td>3450.71</td></tr>\n",
       "\t<tr><th scope=row>2</th><td>Barley</td><td>Canada      </td><td>3253.76</td></tr>\n",
       "\t<tr><th scope=row>3</th><td>Wheat </td><td>Alberta     </td><td>3100.62</td></tr>\n",
       "\t<tr><th scope=row>4</th><td>Barley</td><td>Saskatchewan</td><td>2971.05</td></tr>\n",
       "\t<tr><th scope=row>5</th><td>Wheat </td><td>Canada      </td><td>2845.33</td></tr>\n",
       "\t<tr><th scope=row>6</th><td>Rye   </td><td>Alberta     </td><td>2683.81</td></tr>\n",
       "\t<tr><th scope=row>7</th><td>Rye   </td><td>Canada      </td><td>2543.90</td></tr>\n",
       "\t<tr><th scope=row>8</th><td>Wheat </td><td>Saskatchewan</td><td>2429.38</td></tr>\n",
       "\t<tr><th scope=row>9</th><td>Rye   </td><td>Saskatchewan</td><td>2226.71</td></tr>\n",
       "\t<tr><th scope=row>10</th><td>Canola</td><td>Alberta     </td><td>1999.24</td></tr>\n",
       "</tbody>\n",
       "</table>\n"
      ],
      "text/latex": [
       "A data.frame: 10 × 3\n",
       "\\begin{tabular}{r|lll}\n",
       "  & CROP\\_TYPE & GEO & AVG\\_YIELD\\\\\n",
       "  & <chr> & <chr> & <dbl>\\\\\n",
       "\\hline\n",
       "\t1 & Barley & Alberta      & 3450.71\\\\\n",
       "\t2 & Barley & Canada       & 3253.76\\\\\n",
       "\t3 & Wheat  & Alberta      & 3100.62\\\\\n",
       "\t4 & Barley & Saskatchewan & 2971.05\\\\\n",
       "\t5 & Wheat  & Canada       & 2845.33\\\\\n",
       "\t6 & Rye    & Alberta      & 2683.81\\\\\n",
       "\t7 & Rye    & Canada       & 2543.90\\\\\n",
       "\t8 & Wheat  & Saskatchewan & 2429.38\\\\\n",
       "\t9 & Rye    & Saskatchewan & 2226.71\\\\\n",
       "\t10 & Canola & Alberta      & 1999.24\\\\\n",
       "\\end{tabular}\n"
      ],
      "text/markdown": [
       "\n",
       "A data.frame: 10 × 3\n",
       "\n",
       "| <!--/--> | CROP_TYPE &lt;chr&gt; | GEO &lt;chr&gt; | AVG_YIELD &lt;dbl&gt; |\n",
       "|---|---|---|---|\n",
       "| 1 | Barley | Alberta      | 3450.71 |\n",
       "| 2 | Barley | Canada       | 3253.76 |\n",
       "| 3 | Wheat  | Alberta      | 3100.62 |\n",
       "| 4 | Barley | Saskatchewan | 2971.05 |\n",
       "| 5 | Wheat  | Canada       | 2845.33 |\n",
       "| 6 | Rye    | Alberta      | 2683.81 |\n",
       "| 7 | Rye    | Canada       | 2543.90 |\n",
       "| 8 | Wheat  | Saskatchewan | 2429.38 |\n",
       "| 9 | Rye    | Saskatchewan | 2226.71 |\n",
       "| 10 | Canola | Alberta      | 1999.24 |\n",
       "\n"
      ],
      "text/plain": [
       "   CROP_TYPE GEO          AVG_YIELD\n",
       "1  Barley    Alberta      3450.71  \n",
       "2  Barley    Canada       3253.76  \n",
       "3  Wheat     Alberta      3100.62  \n",
       "4  Barley    Saskatchewan 2971.05  \n",
       "5  Wheat     Canada       2845.33  \n",
       "6  Rye       Alberta      2683.81  \n",
       "7  Rye       Canada       2543.90  \n",
       "8  Wheat     Saskatchewan 2429.38  \n",
       "9  Rye       Saskatchewan 2226.71  \n",
       "10 Canola    Alberta      1999.24  "
      ]
     },
     "metadata": {},
     "output_type": "display_data"
    }
   ],
   "source": [
    "yield_ranking <- dbGetQuery(con, \"\n",
    "  SELECT CROP_TYPE, GEO, ROUND(AVG(AVG_YIELD), 2) AS AVG_YIELD\n",
    "  FROM CROP_DATA\n",
    "  WHERE strftime('%Y', YEAR) >= '2000'\n",
    "  GROUP BY CROP_TYPE, GEO\n",
    "  ORDER BY AVG_YIELD DESC\");\n",
    "\n",
    "head(yield_ranking, 10)"
   ]
  },
  {
   "cell_type": "markdown",
   "id": "46659752",
   "metadata": {},
   "source": [
    "11. How much wheat was harvested in Canada in the most recent year of the data?"
   ]
  },
  {
   "cell_type": "code",
   "execution_count": 86,
   "id": "5032f423",
   "metadata": {},
   "outputs": [
    {
     "data": {
      "text/html": [
       "<table class=\"dataframe\">\n",
       "<caption>A data.frame: 1 × 2</caption>\n",
       "<thead>\n",
       "\t<tr><th scope=col>YEAR</th><th scope=col>TOTAL_HARVESTED</th></tr>\n",
       "\t<tr><th scope=col>&lt;chr&gt;</th><th scope=col>&lt;int&gt;</th></tr>\n",
       "</thead>\n",
       "<tbody>\n",
       "\t<tr><td>2020-12-31</td><td>10017800</td></tr>\n",
       "</tbody>\n",
       "</table>\n"
      ],
      "text/latex": [
       "A data.frame: 1 × 2\n",
       "\\begin{tabular}{ll}\n",
       " YEAR & TOTAL\\_HARVESTED\\\\\n",
       " <chr> & <int>\\\\\n",
       "\\hline\n",
       "\t 2020-12-31 & 10017800\\\\\n",
       "\\end{tabular}\n"
      ],
      "text/markdown": [
       "\n",
       "A data.frame: 1 × 2\n",
       "\n",
       "| YEAR &lt;chr&gt; | TOTAL_HARVESTED &lt;int&gt; |\n",
       "|---|---|\n",
       "| 2020-12-31 | 10017800 |\n",
       "\n"
      ],
      "text/plain": [
       "  YEAR       TOTAL_HARVESTED\n",
       "1 2020-12-31 10017800       "
      ]
     },
     "metadata": {},
     "output_type": "display_data"
    }
   ],
   "source": [
    "wheat_recent_harvest <- dbGetQuery(con, \"\n",
    "  SELECT YEAR, SUM(HARVESTED_AREA) AS TOTAL_HARVESTED\n",
    "  FROM CROP_DATA\n",
    "  WHERE CROP_TYPE = 'Wheat' AND GEO = 'Canada'\n",
    "    AND YEAR = (\n",
    "      SELECT MAX(YEAR)\n",
    "      FROM CROP_DATA\n",
    "      WHERE CROP_TYPE = 'Wheat' AND GEO = 'Canada'\n",
    "    )\n",
    "  GROUP BY YEAR\");\n",
    "\n",
    "wheat_recent_harvest"
   ]
  },
  {
   "cell_type": "markdown",
   "id": "0f4ec9a8",
   "metadata": {},
   "source": [
    "12. What's the monthly price per metric tonne of Canola grown in Saskatchewan in both Canadian and US dollars?"
   ]
  },
  {
   "cell_type": "code",
   "execution_count": 88,
   "id": "7e810bfd",
   "metadata": {},
   "outputs": [
    {
     "data": {
      "text/html": [
       "<style>\n",
       ".list-inline {list-style: none; margin:0; padding: 0}\n",
       ".list-inline>li {display: inline-block}\n",
       ".list-inline>li:not(:last-child)::after {content: \"\\00b7\"; padding: 0 .5ex}\n",
       "</style>\n",
       "<ol class=list-inline><li>'CD_ID'</li><li>'DATE'</li><li>'CROP_TYPE'</li><li>'GEO'</li><li>'PRICE_PRERMT'</li></ol>\n"
      ],
      "text/latex": [
       "\\begin{enumerate*}\n",
       "\\item 'CD\\_ID'\n",
       "\\item 'DATE'\n",
       "\\item 'CROP\\_TYPE'\n",
       "\\item 'GEO'\n",
       "\\item 'PRICE\\_PRERMT'\n",
       "\\end{enumerate*}\n"
      ],
      "text/markdown": [
       "1. 'CD_ID'\n",
       "2. 'DATE'\n",
       "3. 'CROP_TYPE'\n",
       "4. 'GEO'\n",
       "5. 'PRICE_PRERMT'\n",
       "\n",
       "\n"
      ],
      "text/plain": [
       "[1] \"CD_ID\"        \"DATE\"         \"CROP_TYPE\"    \"GEO\"          \"PRICE_PRERMT\""
      ]
     },
     "metadata": {},
     "output_type": "display_data"
    }
   ],
   "source": [
    "dbListFields(con, \"FARM_PRICES\")"
   ]
  },
  {
   "cell_type": "code",
   "execution_count": 90,
   "id": "fb4f3ca3",
   "metadata": {},
   "outputs": [
    {
     "data": {
      "text/html": [
       "<style>\n",
       ".list-inline {list-style: none; margin:0; padding: 0}\n",
       ".list-inline>li {display: inline-block}\n",
       ".list-inline>li:not(:last-child)::after {content: \"\\00b7\"; padding: 0 .5ex}\n",
       "</style>\n",
       "<ol class=list-inline><li>'DFX_ID'</li><li>'DATE'</li><li>'FXUSDCAD'</li></ol>\n"
      ],
      "text/latex": [
       "\\begin{enumerate*}\n",
       "\\item 'DFX\\_ID'\n",
       "\\item 'DATE'\n",
       "\\item 'FXUSDCAD'\n",
       "\\end{enumerate*}\n"
      ],
      "text/markdown": [
       "1. 'DFX_ID'\n",
       "2. 'DATE'\n",
       "3. 'FXUSDCAD'\n",
       "\n",
       "\n"
      ],
      "text/plain": [
       "[1] \"DFX_ID\"   \"DATE\"     \"FXUSDCAD\""
      ]
     },
     "metadata": {},
     "output_type": "display_data"
    }
   ],
   "source": [
    "dbListFields(con, \"MONTHLY_FX\")"
   ]
  },
  {
   "cell_type": "code",
   "execution_count": 92,
   "id": "e17329a9",
   "metadata": {},
   "outputs": [
    {
     "data": {
      "text/html": [
       "<table class=\"dataframe\">\n",
       "<caption>A data.frame: 6 × 5</caption>\n",
       "<thead>\n",
       "\t<tr><th scope=col>DATE</th><th scope=col>GEO</th><th scope=col>CROP_TYPE</th><th scope=col>CAD_PRICE</th><th scope=col>USD_PRICE</th></tr>\n",
       "\t<tr><th scope=col>&lt;chr&gt;</th><th scope=col>&lt;chr&gt;</th><th scope=col>&lt;chr&gt;</th><th scope=col>&lt;dbl&gt;</th><th scope=col>&lt;dbl&gt;</th></tr>\n",
       "</thead>\n",
       "<tbody>\n",
       "\t<tr><td>2020-12-01</td><td>Saskatchewan</td><td>Canola</td><td>507.33</td><td>396.11</td></tr>\n",
       "\t<tr><td>2020-11-01</td><td>Saskatchewan</td><td>Canola</td><td>495.64</td><td>379.27</td></tr>\n",
       "\t<tr><td>2020-10-01</td><td>Saskatchewan</td><td>Canola</td><td>474.80</td><td>359.30</td></tr>\n",
       "\t<tr><td>2020-09-01</td><td>Saskatchewan</td><td>Canola</td><td>463.52</td><td>350.41</td></tr>\n",
       "\t<tr><td>2020-08-01</td><td>Saskatchewan</td><td>Canola</td><td>464.60</td><td>351.38</td></tr>\n",
       "\t<tr><td>2020-07-01</td><td>Saskatchewan</td><td>Canola</td><td>462.88</td><td>342.91</td></tr>\n",
       "</tbody>\n",
       "</table>\n"
      ],
      "text/latex": [
       "A data.frame: 6 × 5\n",
       "\\begin{tabular}{lllll}\n",
       " DATE & GEO & CROP\\_TYPE & CAD\\_PRICE & USD\\_PRICE\\\\\n",
       " <chr> & <chr> & <chr> & <dbl> & <dbl>\\\\\n",
       "\\hline\n",
       "\t 2020-12-01 & Saskatchewan & Canola & 507.33 & 396.11\\\\\n",
       "\t 2020-11-01 & Saskatchewan & Canola & 495.64 & 379.27\\\\\n",
       "\t 2020-10-01 & Saskatchewan & Canola & 474.80 & 359.30\\\\\n",
       "\t 2020-09-01 & Saskatchewan & Canola & 463.52 & 350.41\\\\\n",
       "\t 2020-08-01 & Saskatchewan & Canola & 464.60 & 351.38\\\\\n",
       "\t 2020-07-01 & Saskatchewan & Canola & 462.88 & 342.91\\\\\n",
       "\\end{tabular}\n"
      ],
      "text/markdown": [
       "\n",
       "A data.frame: 6 × 5\n",
       "\n",
       "| DATE &lt;chr&gt; | GEO &lt;chr&gt; | CROP_TYPE &lt;chr&gt; | CAD_PRICE &lt;dbl&gt; | USD_PRICE &lt;dbl&gt; |\n",
       "|---|---|---|---|---|\n",
       "| 2020-12-01 | Saskatchewan | Canola | 507.33 | 396.11 |\n",
       "| 2020-11-01 | Saskatchewan | Canola | 495.64 | 379.27 |\n",
       "| 2020-10-01 | Saskatchewan | Canola | 474.80 | 359.30 |\n",
       "| 2020-09-01 | Saskatchewan | Canola | 463.52 | 350.41 |\n",
       "| 2020-08-01 | Saskatchewan | Canola | 464.60 | 351.38 |\n",
       "| 2020-07-01 | Saskatchewan | Canola | 462.88 | 342.91 |\n",
       "\n"
      ],
      "text/plain": [
       "  DATE       GEO          CROP_TYPE CAD_PRICE USD_PRICE\n",
       "1 2020-12-01 Saskatchewan Canola    507.33    396.11   \n",
       "2 2020-11-01 Saskatchewan Canola    495.64    379.27   \n",
       "3 2020-10-01 Saskatchewan Canola    474.80    359.30   \n",
       "4 2020-09-01 Saskatchewan Canola    463.52    350.41   \n",
       "5 2020-08-01 Saskatchewan Canola    464.60    351.38   \n",
       "6 2020-07-01 Saskatchewan Canola    462.88    342.91   "
      ]
     },
     "metadata": {},
     "output_type": "display_data"
    }
   ],
   "source": [
    "canola_prices <- dbGetQuery(con, \"\n",
    "  SELECT F.DATE, F.GEO, F.CROP_TYPE, F.PRICE_PRERMT AS CAD_PRICE,\n",
    "    ROUND(F.PRICE_PRERMT / M.FXUSDCAD, 2) AS USD_PRICE\n",
    "  FROM FARM_PRICES F\n",
    "  JOIN MONTHLY_FX M ON F.DATE = M.DATE\n",
    "  WHERE F.CROP_TYPE = 'Canola' AND F.GEO = 'Saskatchewan'\n",
    "  ORDER BY F.DATE DESC LIMIT 6\");\n",
    "\n",
    "canola_prices;"
   ]
  },
  {
   "cell_type": "markdown",
   "id": "22871f1e",
   "metadata": {},
   "source": [
    "13. How many years did Barley yield at least 200 Kg per hectare in Canada?"
   ]
  },
  {
   "cell_type": "code",
   "execution_count": 96,
   "id": "1d3d36e6",
   "metadata": {},
   "outputs": [
    {
     "data": {
      "text/html": [
       "<table class=\"dataframe\">\n",
       "<caption>A data.frame: 1 × 1</caption>\n",
       "<thead>\n",
       "\t<tr><th scope=col>BLY_YRS_ABOVE_2MTPH</th></tr>\n",
       "\t<tr><th scope=col>&lt;int&gt;</th></tr>\n",
       "</thead>\n",
       "<tbody>\n",
       "\t<tr><td>52</td></tr>\n",
       "</tbody>\n",
       "</table>\n"
      ],
      "text/latex": [
       "A data.frame: 1 × 1\n",
       "\\begin{tabular}{l}\n",
       " BLY\\_YRS\\_ABOVE\\_2MTPH\\\\\n",
       " <int>\\\\\n",
       "\\hline\n",
       "\t 52\\\\\n",
       "\\end{tabular}\n"
      ],
      "text/markdown": [
       "\n",
       "A data.frame: 1 × 1\n",
       "\n",
       "| BLY_YRS_ABOVE_2MTPH &lt;int&gt; |\n",
       "|---|\n",
       "| 52 |\n",
       "\n"
      ],
      "text/plain": [
       "  BLY_YRS_ABOVE_2MTPH\n",
       "1 52                 "
      ]
     },
     "metadata": {},
     "output_type": "display_data"
    }
   ],
   "source": [
    "dbGetQuery(con, \"\n",
    "  SELECT COUNT(DISTINCT YEAR) AS BLY_YRS_ABOVE_2MTPH FROM CROP_DATA\n",
    "  WHERE AVG_YIELD > 2000 \n",
    "  AND CROP_TYPE = 'Barley' AND GEO = 'Canada'\");"
   ]
  },
  {
   "cell_type": "markdown",
   "id": "118ffc9a",
   "metadata": {},
   "source": [
    "14. How much farm land was seeded with Barley in Alberta but not harvested each year since the year 2000?"
   ]
  },
  {
   "cell_type": "code",
   "execution_count": 97,
   "id": "07e12ca9",
   "metadata": {},
   "outputs": [
    {
     "data": {
      "text/html": [
       "<table class=\"dataframe\">\n",
       "<caption>A data.frame: 21 × 6</caption>\n",
       "<thead>\n",
       "\t<tr><th scope=col>YEAR</th><th scope=col>GEO</th><th scope=col>CROP_TYPE</th><th scope=col>SEEDED_AREA</th><th scope=col>HARVESTED_AREA</th><th scope=col>PCT_UNHARVESTED_AREA</th></tr>\n",
       "\t<tr><th scope=col>&lt;chr&gt;</th><th scope=col>&lt;chr&gt;</th><th scope=col>&lt;chr&gt;</th><th scope=col>&lt;int&gt;</th><th scope=col>&lt;int&gt;</th><th scope=col>&lt;int&gt;</th></tr>\n",
       "</thead>\n",
       "<tbody>\n",
       "\t<tr><td>2000</td><td>Alberta</td><td>Barley</td><td>2185300</td><td>1740100</td><td>20</td></tr>\n",
       "\t<tr><td>2001</td><td>Alberta</td><td>Barley</td><td>1983000</td><td>1618700</td><td>18</td></tr>\n",
       "\t<tr><td>2002</td><td>Alberta</td><td>Barley</td><td>2169100</td><td>1127000</td><td>48</td></tr>\n",
       "\t<tr><td>2003</td><td>Alberta</td><td>Barley</td><td>2144800</td><td>1788700</td><td>16</td></tr>\n",
       "\t<tr><td>2004</td><td>Alberta</td><td>Barley</td><td>1910100</td><td>1598500</td><td>16</td></tr>\n",
       "\t<tr><td>2005</td><td>Alberta</td><td>Barley</td><td>1709800</td><td>1456900</td><td>14</td></tr>\n",
       "\t<tr><td>2006</td><td>Alberta</td><td>Barley</td><td>1657100</td><td>1375900</td><td>16</td></tr>\n",
       "\t<tr><td>2007</td><td>Alberta</td><td>Barley</td><td>1962700</td><td>1728000</td><td>11</td></tr>\n",
       "\t<tr><td>2008</td><td>Alberta</td><td>Barley</td><td>1679400</td><td>1517600</td><td> 9</td></tr>\n",
       "\t<tr><td>2009</td><td>Alberta</td><td>Barley</td><td>1602600</td><td>1226200</td><td>23</td></tr>\n",
       "\t<tr><td>2010</td><td>Alberta</td><td>Barley</td><td>1509500</td><td>1264600</td><td>16</td></tr>\n",
       "\t<tr><td>2011</td><td>Alberta</td><td>Barley</td><td>1461000</td><td>1295000</td><td>11</td></tr>\n",
       "\t<tr><td>2012</td><td>Alberta</td><td>Barley</td><td>1537800</td><td>1384000</td><td>10</td></tr>\n",
       "\t<tr><td>2013</td><td>Alberta</td><td>Barley</td><td>1497300</td><td>1363800</td><td> 8</td></tr>\n",
       "\t<tr><td>2014</td><td>Alberta</td><td>Barley</td><td>1315200</td><td>1157400</td><td>11</td></tr>\n",
       "\t<tr><td>2015</td><td>Alberta</td><td>Barley</td><td>1416400</td><td>1167500</td><td>17</td></tr>\n",
       "\t<tr><td>2016</td><td>Alberta</td><td>Barley</td><td>1381600</td><td>1076500</td><td>22</td></tr>\n",
       "\t<tr><td>2017</td><td>Alberta</td><td>Barley</td><td>1153400</td><td>1011700</td><td>12</td></tr>\n",
       "\t<tr><td>2018</td><td>Alberta</td><td>Barley</td><td>1260200</td><td>1111600</td><td>11</td></tr>\n",
       "\t<tr><td>2019</td><td>Alberta</td><td>Barley</td><td>1441900</td><td>1272700</td><td>11</td></tr>\n",
       "\t<tr><td>2020</td><td>Alberta</td><td>Barley</td><td>1481800</td><td>1326200</td><td>10</td></tr>\n",
       "</tbody>\n",
       "</table>\n"
      ],
      "text/latex": [
       "A data.frame: 21 × 6\n",
       "\\begin{tabular}{llllll}\n",
       " YEAR & GEO & CROP\\_TYPE & SEEDED\\_AREA & HARVESTED\\_AREA & PCT\\_UNHARVESTED\\_AREA\\\\\n",
       " <chr> & <chr> & <chr> & <int> & <int> & <int>\\\\\n",
       "\\hline\n",
       "\t 2000 & Alberta & Barley & 2185300 & 1740100 & 20\\\\\n",
       "\t 2001 & Alberta & Barley & 1983000 & 1618700 & 18\\\\\n",
       "\t 2002 & Alberta & Barley & 2169100 & 1127000 & 48\\\\\n",
       "\t 2003 & Alberta & Barley & 2144800 & 1788700 & 16\\\\\n",
       "\t 2004 & Alberta & Barley & 1910100 & 1598500 & 16\\\\\n",
       "\t 2005 & Alberta & Barley & 1709800 & 1456900 & 14\\\\\n",
       "\t 2006 & Alberta & Barley & 1657100 & 1375900 & 16\\\\\n",
       "\t 2007 & Alberta & Barley & 1962700 & 1728000 & 11\\\\\n",
       "\t 2008 & Alberta & Barley & 1679400 & 1517600 &  9\\\\\n",
       "\t 2009 & Alberta & Barley & 1602600 & 1226200 & 23\\\\\n",
       "\t 2010 & Alberta & Barley & 1509500 & 1264600 & 16\\\\\n",
       "\t 2011 & Alberta & Barley & 1461000 & 1295000 & 11\\\\\n",
       "\t 2012 & Alberta & Barley & 1537800 & 1384000 & 10\\\\\n",
       "\t 2013 & Alberta & Barley & 1497300 & 1363800 &  8\\\\\n",
       "\t 2014 & Alberta & Barley & 1315200 & 1157400 & 11\\\\\n",
       "\t 2015 & Alberta & Barley & 1416400 & 1167500 & 17\\\\\n",
       "\t 2016 & Alberta & Barley & 1381600 & 1076500 & 22\\\\\n",
       "\t 2017 & Alberta & Barley & 1153400 & 1011700 & 12\\\\\n",
       "\t 2018 & Alberta & Barley & 1260200 & 1111600 & 11\\\\\n",
       "\t 2019 & Alberta & Barley & 1441900 & 1272700 & 11\\\\\n",
       "\t 2020 & Alberta & Barley & 1481800 & 1326200 & 10\\\\\n",
       "\\end{tabular}\n"
      ],
      "text/markdown": [
       "\n",
       "A data.frame: 21 × 6\n",
       "\n",
       "| YEAR &lt;chr&gt; | GEO &lt;chr&gt; | CROP_TYPE &lt;chr&gt; | SEEDED_AREA &lt;int&gt; | HARVESTED_AREA &lt;int&gt; | PCT_UNHARVESTED_AREA &lt;int&gt; |\n",
       "|---|---|---|---|---|---|\n",
       "| 2000 | Alberta | Barley | 2185300 | 1740100 | 20 |\n",
       "| 2001 | Alberta | Barley | 1983000 | 1618700 | 18 |\n",
       "| 2002 | Alberta | Barley | 2169100 | 1127000 | 48 |\n",
       "| 2003 | Alberta | Barley | 2144800 | 1788700 | 16 |\n",
       "| 2004 | Alberta | Barley | 1910100 | 1598500 | 16 |\n",
       "| 2005 | Alberta | Barley | 1709800 | 1456900 | 14 |\n",
       "| 2006 | Alberta | Barley | 1657100 | 1375900 | 16 |\n",
       "| 2007 | Alberta | Barley | 1962700 | 1728000 | 11 |\n",
       "| 2008 | Alberta | Barley | 1679400 | 1517600 |  9 |\n",
       "| 2009 | Alberta | Barley | 1602600 | 1226200 | 23 |\n",
       "| 2010 | Alberta | Barley | 1509500 | 1264600 | 16 |\n",
       "| 2011 | Alberta | Barley | 1461000 | 1295000 | 11 |\n",
       "| 2012 | Alberta | Barley | 1537800 | 1384000 | 10 |\n",
       "| 2013 | Alberta | Barley | 1497300 | 1363800 |  8 |\n",
       "| 2014 | Alberta | Barley | 1315200 | 1157400 | 11 |\n",
       "| 2015 | Alberta | Barley | 1416400 | 1167500 | 17 |\n",
       "| 2016 | Alberta | Barley | 1381600 | 1076500 | 22 |\n",
       "| 2017 | Alberta | Barley | 1153400 | 1011700 | 12 |\n",
       "| 2018 | Alberta | Barley | 1260200 | 1111600 | 11 |\n",
       "| 2019 | Alberta | Barley | 1441900 | 1272700 | 11 |\n",
       "| 2020 | Alberta | Barley | 1481800 | 1326200 | 10 |\n",
       "\n"
      ],
      "text/plain": [
       "   YEAR GEO     CROP_TYPE SEEDED_AREA HARVESTED_AREA PCT_UNHARVESTED_AREA\n",
       "1  2000 Alberta Barley    2185300     1740100        20                  \n",
       "2  2001 Alberta Barley    1983000     1618700        18                  \n",
       "3  2002 Alberta Barley    2169100     1127000        48                  \n",
       "4  2003 Alberta Barley    2144800     1788700        16                  \n",
       "5  2004 Alberta Barley    1910100     1598500        16                  \n",
       "6  2005 Alberta Barley    1709800     1456900        14                  \n",
       "7  2006 Alberta Barley    1657100     1375900        16                  \n",
       "8  2007 Alberta Barley    1962700     1728000        11                  \n",
       "9  2008 Alberta Barley    1679400     1517600         9                  \n",
       "10 2009 Alberta Barley    1602600     1226200        23                  \n",
       "11 2010 Alberta Barley    1509500     1264600        16                  \n",
       "12 2011 Alberta Barley    1461000     1295000        11                  \n",
       "13 2012 Alberta Barley    1537800     1384000        10                  \n",
       "14 2013 Alberta Barley    1497300     1363800         8                  \n",
       "15 2014 Alberta Barley    1315200     1157400        11                  \n",
       "16 2015 Alberta Barley    1416400     1167500        17                  \n",
       "17 2016 Alberta Barley    1381600     1076500        22                  \n",
       "18 2017 Alberta Barley    1153400     1011700        12                  \n",
       "19 2018 Alberta Barley    1260200     1111600        11                  \n",
       "20 2019 Alberta Barley    1441900     1272700        11                  \n",
       "21 2020 Alberta Barley    1481800     1326200        10                  "
      ]
     },
     "metadata": {},
     "output_type": "display_data"
    }
   ],
   "source": [
    "dbGetQuery(con, \"\n",
    "  SELECT \n",
    "    strftime('%Y', YEAR) AS YEAR, GEO, CROP_TYPE,SEEDED_AREA, \n",
    "    HARVESTED_AREA,\n",
    "    100 * (SEEDED_AREA - HARVESTED_AREA) / SEEDED_AREA AS PCT_UNHARVESTED_AREA\n",
    "  FROM CROP_DATA \n",
    "  WHERE \n",
    "    YEAR >= 2000 AND GEO = 'Alberta' AND CROP_TYPE = 'Barley'\");"
   ]
  },
  {
   "cell_type": "markdown",
   "id": "10c242e8",
   "metadata": {},
   "source": [
    "15. Over the last 3 calendar years of data, what was the average value of the Canadian dollar relative to the USD?"
   ]
  },
  {
   "cell_type": "code",
   "execution_count": 98,
   "id": "919203a5",
   "metadata": {},
   "outputs": [
    {
     "data": {
      "text/html": [
       "<table class=\"dataframe\">\n",
       "<caption>A data.frame: 1 × 2</caption>\n",
       "<thead>\n",
       "\t<tr><th scope=col>AS_OF_DATE</th><th scope=col>FX_DAILY_AVG_CAD</th></tr>\n",
       "\t<tr><th scope=col>&lt;chr&gt;</th><th scope=col>&lt;dbl&gt;</th></tr>\n",
       "</thead>\n",
       "<tbody>\n",
       "\t<tr><td>2018-02-20</td><td>1.3227</td></tr>\n",
       "</tbody>\n",
       "</table>\n"
      ],
      "text/latex": [
       "A data.frame: 1 × 2\n",
       "\\begin{tabular}{ll}\n",
       " AS\\_OF\\_DATE & FX\\_DAILY\\_AVG\\_CAD\\\\\n",
       " <chr> & <dbl>\\\\\n",
       "\\hline\n",
       "\t 2018-02-20 & 1.3227\\\\\n",
       "\\end{tabular}\n"
      ],
      "text/markdown": [
       "\n",
       "A data.frame: 1 × 2\n",
       "\n",
       "| AS_OF_DATE &lt;chr&gt; | FX_DAILY_AVG_CAD &lt;dbl&gt; |\n",
       "|---|---|\n",
       "| 2018-02-20 | 1.3227 |\n",
       "\n"
      ],
      "text/plain": [
       "  AS_OF_DATE FX_DAILY_AVG_CAD\n",
       "1 2018-02-20 1.3227          "
      ]
     },
     "metadata": {},
     "output_type": "display_data"
    }
   ],
   "source": [
    "dbGetQuery(con, \"\n",
    "  SELECT \n",
    "    MIN(DATE) AS AS_OF_DATE, \n",
    "    ROUND(AVG(FXUSDCAD), 4) AS FX_DAILY_AVG_CAD\n",
    "  FROM DAILY_FX\n",
    "  WHERE DATE >= DATE((SELECT MAX(DATE) FROM DAILY_FX), '-3 years')\n",
    "\");"
   ]
  },
  {
   "cell_type": "markdown",
   "id": "5ce17937",
   "metadata": {},
   "source": [
    "16. Create a view of the crop data with an FX column included"
   ]
  },
  {
   "cell_type": "code",
   "execution_count": 105,
   "id": "c52791be",
   "metadata": {},
   "outputs": [
    {
     "data": {
      "text/html": [
       "<table class=\"dataframe\">\n",
       "<caption>A data.frame: 5 × 9</caption>\n",
       "<thead>\n",
       "\t<tr><th scope=col>CD_ID</th><th scope=col>YEAR</th><th scope=col>CROP_TYPE</th><th scope=col>GEO</th><th scope=col>SEEDED_AREA</th><th scope=col>HARVESTED_AREA</th><th scope=col>PRODUCTION</th><th scope=col>AVG_YIELD</th><th scope=col>FXUSDCAD</th></tr>\n",
       "\t<tr><th scope=col>&lt;int&gt;</th><th scope=col>&lt;chr&gt;</th><th scope=col>&lt;chr&gt;</th><th scope=col>&lt;chr&gt;</th><th scope=col>&lt;int&gt;</th><th scope=col>&lt;int&gt;</th><th scope=col>&lt;int&gt;</th><th scope=col>&lt;int&gt;</th><th scope=col>&lt;dbl&gt;</th></tr>\n",
       "</thead>\n",
       "<tbody>\n",
       "\t<tr><td>624</td><td>2017-12-31</td><td>Barley</td><td>Alberta</td><td>1153400</td><td>1011700</td><td>3906000</td><td>3900</td><td>1.2729</td></tr>\n",
       "\t<tr><td>624</td><td>2017-12-31</td><td>Barley</td><td>Alberta</td><td>1153400</td><td>1011700</td><td>3906000</td><td>3900</td><td>1.2695</td></tr>\n",
       "\t<tr><td>624</td><td>2017-12-31</td><td>Barley</td><td>Alberta</td><td>1153400</td><td>1011700</td><td>3906000</td><td>3900</td><td>1.2680</td></tr>\n",
       "\t<tr><td>624</td><td>2017-12-31</td><td>Barley</td><td>Alberta</td><td>1153400</td><td>1011700</td><td>3906000</td><td>3900</td><td>1.2757</td></tr>\n",
       "\t<tr><td>624</td><td>2017-12-31</td><td>Barley</td><td>Alberta</td><td>1153400</td><td>1011700</td><td>3906000</td><td>3900</td><td>1.2843</td></tr>\n",
       "</tbody>\n",
       "</table>\n"
      ],
      "text/latex": [
       "A data.frame: 5 × 9\n",
       "\\begin{tabular}{lllllllll}\n",
       " CD\\_ID & YEAR & CROP\\_TYPE & GEO & SEEDED\\_AREA & HARVESTED\\_AREA & PRODUCTION & AVG\\_YIELD & FXUSDCAD\\\\\n",
       " <int> & <chr> & <chr> & <chr> & <int> & <int> & <int> & <int> & <dbl>\\\\\n",
       "\\hline\n",
       "\t 624 & 2017-12-31 & Barley & Alberta & 1153400 & 1011700 & 3906000 & 3900 & 1.2729\\\\\n",
       "\t 624 & 2017-12-31 & Barley & Alberta & 1153400 & 1011700 & 3906000 & 3900 & 1.2695\\\\\n",
       "\t 624 & 2017-12-31 & Barley & Alberta & 1153400 & 1011700 & 3906000 & 3900 & 1.2680\\\\\n",
       "\t 624 & 2017-12-31 & Barley & Alberta & 1153400 & 1011700 & 3906000 & 3900 & 1.2757\\\\\n",
       "\t 624 & 2017-12-31 & Barley & Alberta & 1153400 & 1011700 & 3906000 & 3900 & 1.2843\\\\\n",
       "\\end{tabular}\n"
      ],
      "text/markdown": [
       "\n",
       "A data.frame: 5 × 9\n",
       "\n",
       "| CD_ID &lt;int&gt; | YEAR &lt;chr&gt; | CROP_TYPE &lt;chr&gt; | GEO &lt;chr&gt; | SEEDED_AREA &lt;int&gt; | HARVESTED_AREA &lt;int&gt; | PRODUCTION &lt;int&gt; | AVG_YIELD &lt;int&gt; | FXUSDCAD &lt;dbl&gt; |\n",
       "|---|---|---|---|---|---|---|---|---|\n",
       "| 624 | 2017-12-31 | Barley | Alberta | 1153400 | 1011700 | 3906000 | 3900 | 1.2729 |\n",
       "| 624 | 2017-12-31 | Barley | Alberta | 1153400 | 1011700 | 3906000 | 3900 | 1.2695 |\n",
       "| 624 | 2017-12-31 | Barley | Alberta | 1153400 | 1011700 | 3906000 | 3900 | 1.2680 |\n",
       "| 624 | 2017-12-31 | Barley | Alberta | 1153400 | 1011700 | 3906000 | 3900 | 1.2757 |\n",
       "| 624 | 2017-12-31 | Barley | Alberta | 1153400 | 1011700 | 3906000 | 3900 | 1.2843 |\n",
       "\n"
      ],
      "text/plain": [
       "  CD_ID YEAR       CROP_TYPE GEO     SEEDED_AREA HARVESTED_AREA PRODUCTION\n",
       "1 624   2017-12-31 Barley    Alberta 1153400     1011700        3906000   \n",
       "2 624   2017-12-31 Barley    Alberta 1153400     1011700        3906000   \n",
       "3 624   2017-12-31 Barley    Alberta 1153400     1011700        3906000   \n",
       "4 624   2017-12-31 Barley    Alberta 1153400     1011700        3906000   \n",
       "5 624   2017-12-31 Barley    Alberta 1153400     1011700        3906000   \n",
       "  AVG_YIELD FXUSDCAD\n",
       "1 3900      1.2729  \n",
       "2 3900      1.2695  \n",
       "3 3900      1.2680  \n",
       "4 3900      1.2757  \n",
       "5 3900      1.2843  "
      ]
     },
     "metadata": {},
     "output_type": "display_data"
    }
   ],
   "source": [
    "dbGetQuery (con, \"SELECT CD_ID, YEAR, CROP_TYPE, GEO, SEEDED_AREA, HARVESTED_AREA, PRODUCTION, AVG_YIELD, FXUSDCAD\n",
    "FROM CROP_DATA, DAILY_FX\n",
    "WHERE strftime('%Y', CROP_DATA. YEAR) = strftime('%Y', DAILY_FX.DATE) and strftime('%m',\n",
    "CROP_DATA. YEAR) = strftime('%m', DAILY_FX.DATE) LIMIT 5\")"
   ]
  },
  {
   "cell_type": "markdown",
   "id": "c90502cd",
   "metadata": {},
   "source": [
    "## IV. Key Findings"
   ]
  },
  {
   "cell_type": "markdown",
   "id": "b9b75f51",
   "metadata": {},
   "source": [
    "- Provinces Analyzed: Alberta, Saskatchewan, and Canada overall.\n",
    "- High-Value Crops: Canola reached farm prices > $350.\n",
    "- Top Yields: Wheat and Canola generally led in yield performance post-2000.\n",
    "- Exchange Rate: Recent 3-year average USD to CAD ≈ 1.32 (varies by exact data).\n",
    "- Unharvested Land: Alberta shows consistent percentage of seeded but not harvested Barley.\n",
    "- Price Insights: CAD-to-USD conversion is vital for profitability estimates in USD terms."
   ]
  },
  {
   "cell_type": "markdown",
   "id": "2e24ffed",
   "metadata": {},
   "source": [
    "## V. Recommendations"
   ]
  },
  {
   "cell_type": "markdown",
   "id": "06c7e163",
   "metadata": {},
   "source": [
    "- Invest in High-Yield, High-Value Crops: Prioritize Canola and Wheat, especially in Saskatchewan and Alberta.\n",
    "- Monitor Currency Fluctuations: Use monthly FX data to time large-scale purchases or contracts.\n",
    "- Explore Yield Efficiency: Focus on crops consistently above 2000 kg/hectare post-2000.\n",
    "- Data-Driven Contracts: Use the percentage of unharvested land to negotiate pricing margins.\n",
    "- Scale Further with Time Series Forecasting: Predict yields & prices with models using R packages like forecast or prophet."
   ]
  },
  {
   "cell_type": "code",
   "execution_count": null,
   "id": "0504d30e",
   "metadata": {},
   "outputs": [],
   "source": []
  },
  {
   "cell_type": "code",
   "execution_count": null,
   "id": "128004a3",
   "metadata": {},
   "outputs": [],
   "source": []
  },
  {
   "cell_type": "code",
   "execution_count": null,
   "id": "28353a23",
   "metadata": {},
   "outputs": [],
   "source": []
  }
 ],
 "metadata": {
  "kernelspec": {
   "display_name": "R",
   "language": "R",
   "name": "ir"
  },
  "language_info": {
   "codemirror_mode": "r",
   "file_extension": ".r",
   "mimetype": "text/x-r-source",
   "name": "R",
   "pygments_lexer": "r",
   "version": "4.4.2"
  }
 },
 "nbformat": 4,
 "nbformat_minor": 5
}
